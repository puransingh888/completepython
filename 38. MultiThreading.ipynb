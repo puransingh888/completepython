{
 "cells": [
  {
   "cell_type": "code",
   "execution_count": 1,
   "metadata": {},
   "outputs": [],
   "source": [
    "import threading\n",
    "import time"
   ]
  },
  {
   "cell_type": "code",
   "execution_count": 3,
   "metadata": {},
   "outputs": [],
   "source": [
    "n = [2,4,6,7,9]"
   ]
  },
  {
   "cell_type": "code",
   "execution_count": 9,
   "metadata": {},
   "outputs": [],
   "source": [
    "def cal_squa(val):\n",
    "    for i in val:\n",
    "        time.sleep(0.2)\n",
    "        print(\"Squa of {0} \".format(i), i*i)"
   ]
  },
  {
   "cell_type": "code",
   "execution_count": 10,
   "metadata": {},
   "outputs": [],
   "source": [
    "def cal_cube(val):\n",
    "    for i in val:\n",
    "        time.sleep(0.2)\n",
    "        print(\"Cube of {0} \".format(i), i*i*i)"
   ]
  },
  {
   "cell_type": "code",
   "execution_count": 16,
   "metadata": {},
   "outputs": [
    {
     "name": "stdout",
     "output_type": "stream",
     "text": [
      "Squa of 2  4\n",
      "Cube of 2  8\n",
      "Squa of 4  16\n",
      "Cube of 4  64\n",
      "Squa of 6  36\n",
      "Cube of 6  216\n",
      "Squa of 7  49\n",
      "Cube of 7  343\n",
      "Squa of 9  81\n",
      "Cube of 9  729\n",
      "Total Time in processing is  1.0167081356048584\n",
      "Done Processing\n"
     ]
    }
   ],
   "source": [
    "ini_time = time.time()\n",
    "\n",
    "t1 = threading.Thread(target = cal_squa, args = (n,))\n",
    "t2 = threading.Thread(target = cal_cube, args = (n,))\n",
    "\n",
    "t1.start()\n",
    "t2.start()\n",
    "\n",
    "t1.join()\n",
    "t2.join()\n",
    "# cal_squa(n)\n",
    "# cal_cube(n)\n",
    "\n",
    "print(\"Total Time in processing is \", time.time() - ini_time)\n",
    "print(\"Done Processing\")"
   ]
  }
 ],
 "metadata": {
  "kernelspec": {
   "display_name": "Python 3",
   "language": "python",
   "name": "python3"
  },
  "language_info": {
   "codemirror_mode": {
    "name": "ipython",
    "version": 3
   },
   "file_extension": ".py",
   "mimetype": "text/x-python",
   "name": "python",
   "nbconvert_exporter": "python",
   "pygments_lexer": "ipython3",
   "version": "3.6.8"
  }
 },
 "nbformat": 4,
 "nbformat_minor": 2
}
